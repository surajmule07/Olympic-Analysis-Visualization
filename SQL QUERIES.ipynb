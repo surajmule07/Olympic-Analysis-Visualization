{
 "cells": [
  {
   "cell_type": "code",
   "execution_count": 3,
   "id": "96a2a5a9",
   "metadata": {},
   "outputs": [],
   "source": [
    "import pandas as pd\n",
    "import sqlite3"
   ]
  },
  {
   "cell_type": "code",
   "execution_count": 4,
   "id": "be35f409",
   "metadata": {},
   "outputs": [],
   "source": [
    "cnn=sqlite3.connect('olympic.db')"
   ]
  },
  {
   "cell_type": "code",
   "execution_count": 5,
   "id": "7fa89c3c",
   "metadata": {},
   "outputs": [
    {
     "data": {
      "text/html": [
       "<div>\n",
       "<style scoped>\n",
       "    .dataframe tbody tr th:only-of-type {\n",
       "        vertical-align: middle;\n",
       "    }\n",
       "\n",
       "    .dataframe tbody tr th {\n",
       "        vertical-align: top;\n",
       "    }\n",
       "\n",
       "    .dataframe thead th {\n",
       "        text-align: right;\n",
       "    }\n",
       "</style>\n",
       "<table border=\"1\" class=\"dataframe\">\n",
       "  <thead>\n",
       "    <tr style=\"text-align: right;\">\n",
       "      <th></th>\n",
       "      <th>ID</th>\n",
       "      <th>Name</th>\n",
       "      <th>Sex</th>\n",
       "      <th>Age</th>\n",
       "      <th>Height</th>\n",
       "      <th>Weight</th>\n",
       "      <th>Team</th>\n",
       "      <th>NOC</th>\n",
       "      <th>Games</th>\n",
       "      <th>Year</th>\n",
       "      <th>Season</th>\n",
       "      <th>City</th>\n",
       "      <th>Sport</th>\n",
       "      <th>Event</th>\n",
       "      <th>Medal</th>\n",
       "    </tr>\n",
       "  </thead>\n",
       "  <tbody>\n",
       "    <tr>\n",
       "      <th>0</th>\n",
       "      <td>3</td>\n",
       "      <td>Gunnar Nielsen Aaby</td>\n",
       "      <td>M</td>\n",
       "      <td>24</td>\n",
       "      <td>170</td>\n",
       "      <td>75.0</td>\n",
       "      <td>Denmark</td>\n",
       "      <td>DEN</td>\n",
       "      <td>1920 Summer</td>\n",
       "      <td>1920</td>\n",
       "      <td>Summer</td>\n",
       "      <td>Antwerpen</td>\n",
       "      <td>Football</td>\n",
       "      <td>Football Men's Football</td>\n",
       "      <td>NaN</td>\n",
       "    </tr>\n",
       "    <tr>\n",
       "      <th>1</th>\n",
       "      <td>4</td>\n",
       "      <td>Edgar Lindenau Aabye</td>\n",
       "      <td>M</td>\n",
       "      <td>34</td>\n",
       "      <td>163</td>\n",
       "      <td>107.0</td>\n",
       "      <td>Denmark/Sweden</td>\n",
       "      <td>DEN</td>\n",
       "      <td>1900 Summer</td>\n",
       "      <td>1900</td>\n",
       "      <td>Summer</td>\n",
       "      <td>Paris</td>\n",
       "      <td>Tug-Of-War</td>\n",
       "      <td>Tug-Of-War Men's Tug-Of-War</td>\n",
       "      <td>Gold</td>\n",
       "    </tr>\n",
       "    <tr>\n",
       "      <th>2</th>\n",
       "      <td>502</td>\n",
       "      <td>Ahmad Shah Abouwi</td>\n",
       "      <td>M</td>\n",
       "      <td>53</td>\n",
       "      <td>169</td>\n",
       "      <td>128.0</td>\n",
       "      <td>Afghanistan</td>\n",
       "      <td>AFG</td>\n",
       "      <td>1956 Summer</td>\n",
       "      <td>1956</td>\n",
       "      <td>Summer</td>\n",
       "      <td>Melbourne</td>\n",
       "      <td>Hockey</td>\n",
       "      <td>Hockey Men's Hockey</td>\n",
       "      <td>NaN</td>\n",
       "    </tr>\n",
       "    <tr>\n",
       "      <th>3</th>\n",
       "      <td>717</td>\n",
       "      <td>Leopoldo Acosta</td>\n",
       "      <td>M</td>\n",
       "      <td>22</td>\n",
       "      <td>185</td>\n",
       "      <td>61.0</td>\n",
       "      <td>Ecuador</td>\n",
       "      <td>ECU</td>\n",
       "      <td>1984 Summer</td>\n",
       "      <td>1984</td>\n",
       "      <td>Summer</td>\n",
       "      <td>Los Angeles</td>\n",
       "      <td>Athletics</td>\n",
       "      <td>Athletics Men's 800 metres</td>\n",
       "      <td>NaN</td>\n",
       "    </tr>\n",
       "    <tr>\n",
       "      <th>4</th>\n",
       "      <td>734</td>\n",
       "      <td>Otto Mnsted Acthon</td>\n",
       "      <td>M</td>\n",
       "      <td>30</td>\n",
       "      <td>143</td>\n",
       "      <td>83.0</td>\n",
       "      <td>Denmark</td>\n",
       "      <td>DEN</td>\n",
       "      <td>1948 Summer</td>\n",
       "      <td>1948</td>\n",
       "      <td>Summer</td>\n",
       "      <td>London</td>\n",
       "      <td>Equestrianism</td>\n",
       "      <td>Equestrianism Men's Jumping, Individual</td>\n",
       "      <td>NaN</td>\n",
       "    </tr>\n",
       "  </tbody>\n",
       "</table>\n",
       "</div>"
      ],
      "text/plain": [
       "    ID                  Name Sex  Age  Height  Weight            Team  NOC   \n",
       "0    3   Gunnar Nielsen Aaby   M   24     170    75.0         Denmark  DEN  \\\n",
       "1    4  Edgar Lindenau Aabye   M   34     163   107.0  Denmark/Sweden  DEN   \n",
       "2  502     Ahmad Shah Abouwi   M   53     169   128.0     Afghanistan  AFG   \n",
       "3  717       Leopoldo Acosta   M   22     185    61.0         Ecuador  ECU   \n",
       "4  734    Otto Mnsted Acthon   M   30     143    83.0         Denmark  DEN   \n",
       "\n",
       "         Games  Year  Season         City          Sport   \n",
       "0  1920 Summer  1920  Summer    Antwerpen       Football  \\\n",
       "1  1900 Summer  1900  Summer        Paris     Tug-Of-War   \n",
       "2  1956 Summer  1956  Summer    Melbourne         Hockey   \n",
       "3  1984 Summer  1984  Summer  Los Angeles      Athletics   \n",
       "4  1948 Summer  1948  Summer       London  Equestrianism   \n",
       "\n",
       "                                     Event Medal  \n",
       "0                  Football Men's Football   NaN  \n",
       "1              Tug-Of-War Men's Tug-Of-War  Gold  \n",
       "2                      Hockey Men's Hockey   NaN  \n",
       "3               Athletics Men's 800 metres   NaN  \n",
       "4  Equestrianism Men's Jumping, Individual   NaN  "
      ]
     },
     "execution_count": 5,
     "metadata": {},
     "output_type": "execute_result"
    }
   ],
   "source": [
    "df=pd.read_csv('athlete_eve.csv')\n",
    "df.head(5)"
   ]
  },
  {
   "cell_type": "code",
   "execution_count": 6,
   "id": "26a03bf6",
   "metadata": {},
   "outputs": [
    {
     "data": {
      "text/html": [
       "<div>\n",
       "<style scoped>\n",
       "    .dataframe tbody tr th:only-of-type {\n",
       "        vertical-align: middle;\n",
       "    }\n",
       "\n",
       "    .dataframe tbody tr th {\n",
       "        vertical-align: top;\n",
       "    }\n",
       "\n",
       "    .dataframe thead th {\n",
       "        text-align: right;\n",
       "    }\n",
       "</style>\n",
       "<table border=\"1\" class=\"dataframe\">\n",
       "  <thead>\n",
       "    <tr style=\"text-align: right;\">\n",
       "      <th></th>\n",
       "      <th>NOC</th>\n",
       "      <th>region</th>\n",
       "      <th>notes</th>\n",
       "    </tr>\n",
       "  </thead>\n",
       "  <tbody>\n",
       "    <tr>\n",
       "      <th>0</th>\n",
       "      <td>AFG</td>\n",
       "      <td>Afghanistan</td>\n",
       "      <td>NaN</td>\n",
       "    </tr>\n",
       "    <tr>\n",
       "      <th>1</th>\n",
       "      <td>BAH</td>\n",
       "      <td>Bahamas</td>\n",
       "      <td>NaN</td>\n",
       "    </tr>\n",
       "    <tr>\n",
       "      <th>2</th>\n",
       "      <td>CAF</td>\n",
       "      <td>Central African Republic</td>\n",
       "      <td>NaN</td>\n",
       "    </tr>\n",
       "    <tr>\n",
       "      <th>3</th>\n",
       "      <td>DEN</td>\n",
       "      <td>Denmark</td>\n",
       "      <td>NaN</td>\n",
       "    </tr>\n",
       "    <tr>\n",
       "      <th>4</th>\n",
       "      <td>ECU</td>\n",
       "      <td>Ecuador</td>\n",
       "      <td>NaN</td>\n",
       "    </tr>\n",
       "  </tbody>\n",
       "</table>\n",
       "</div>"
      ],
      "text/plain": [
       "   NOC                    region  notes\n",
       "0  AFG               Afghanistan    NaN\n",
       "1  BAH                   Bahamas    NaN\n",
       "2  CAF  Central African Republic    NaN\n",
       "3  DEN                   Denmark    NaN\n",
       "4  ECU                   Ecuador    NaN"
      ]
     },
     "execution_count": 6,
     "metadata": {},
     "output_type": "execute_result"
    }
   ],
   "source": [
    "df=pd.read_csv('noc_reg.csv')\n",
    "df.head(5)"
   ]
  },
  {
   "cell_type": "code",
   "execution_count": 21,
   "id": "f052cf8c",
   "metadata": {},
   "outputs": [
    {
     "data": {
      "text/plain": [
       "9"
      ]
     },
     "execution_count": 21,
     "metadata": {},
     "output_type": "execute_result"
    }
   ],
   "source": [
    "df.to_sql('noc_reg',cnn)"
   ]
  },
  {
   "cell_type": "code",
   "execution_count": null,
   "id": "de46dfbb",
   "metadata": {},
   "outputs": [],
   "source": [
    "df.to_sql('athlete_eve',cnn)"
   ]
  },
  {
   "cell_type": "code",
   "execution_count": 18,
   "id": "92309ad7",
   "metadata": {},
   "outputs": [
    {
     "name": "stdout",
     "output_type": "stream",
     "text": [
      "The sql extension is already loaded. To reload it, use:\n",
      "  %reload_ext sql\n"
     ]
    }
   ],
   "source": [
    "%load_ext sql"
   ]
  },
  {
   "cell_type": "code",
   "execution_count": null,
   "id": "167cd236",
   "metadata": {},
   "outputs": [],
   "source": [
    "%%sql\n",
    "\n",
    "select * from athlete_eve;"
   ]
  },
  {
   "cell_type": "code",
   "execution_count": 23,
   "id": "5d0180c8",
   "metadata": {},
   "outputs": [
    {
     "name": "stdout",
     "output_type": "stream",
     "text": [
      " * sqlite:///olympic.db\n",
      "Done.\n"
     ]
    },
    {
     "data": {
      "text/html": [
       "<table>\n",
       "    <thead>\n",
       "        <tr>\n",
       "            <th>index</th>\n",
       "            <th>NOC</th>\n",
       "            <th>region</th>\n",
       "            <th>notes</th>\n",
       "        </tr>\n",
       "    </thead>\n",
       "    <tbody>\n",
       "        <tr>\n",
       "            <td>0</td>\n",
       "            <td>AFG</td>\n",
       "            <td>Afghanistan</td>\n",
       "            <td>None</td>\n",
       "        </tr>\n",
       "        <tr>\n",
       "            <td>1</td>\n",
       "            <td>BAH</td>\n",
       "            <td>Bahamas</td>\n",
       "            <td>None</td>\n",
       "        </tr>\n",
       "        <tr>\n",
       "            <td>2</td>\n",
       "            <td>CAF</td>\n",
       "            <td>Central African Republic</td>\n",
       "            <td>None</td>\n",
       "        </tr>\n",
       "        <tr>\n",
       "            <td>3</td>\n",
       "            <td>DEN</td>\n",
       "            <td>Denmark</td>\n",
       "            <td>None</td>\n",
       "        </tr>\n",
       "        <tr>\n",
       "            <td>4</td>\n",
       "            <td>ECU</td>\n",
       "            <td>Ecuador</td>\n",
       "            <td>None</td>\n",
       "        </tr>\n",
       "        <tr>\n",
       "            <td>5</td>\n",
       "            <td>FIJ</td>\n",
       "            <td>Fiji</td>\n",
       "            <td>None</td>\n",
       "        </tr>\n",
       "        <tr>\n",
       "            <td>6</td>\n",
       "            <td>GAB</td>\n",
       "            <td>Gabon</td>\n",
       "            <td>None</td>\n",
       "        </tr>\n",
       "        <tr>\n",
       "            <td>7</td>\n",
       "            <td>HAI</td>\n",
       "            <td>Haiti</td>\n",
       "            <td>None</td>\n",
       "        </tr>\n",
       "        <tr>\n",
       "            <td>8</td>\n",
       "            <td>JAM</td>\n",
       "            <td>Jamaica</td>\n",
       "            <td>None</td>\n",
       "        </tr>\n",
       "    </tbody>\n",
       "</table>"
      ],
      "text/plain": [
       "[(0, 'AFG', 'Afghanistan', None),\n",
       " (1, 'BAH', 'Bahamas', None),\n",
       " (2, 'CAF', 'Central African Republic', None),\n",
       " (3, 'DEN', 'Denmark', None),\n",
       " (4, 'ECU', 'Ecuador', None),\n",
       " (5, 'FIJ', 'Fiji', None),\n",
       " (6, 'GAB', 'Gabon', None),\n",
       " (7, 'HAI', 'Haiti', None),\n",
       " (8, 'JAM', 'Jamaica', None)]"
      ]
     },
     "execution_count": 23,
     "metadata": {},
     "output_type": "execute_result"
    }
   ],
   "source": [
    "%%sql\n",
    "\n",
    "select * from noc_reg"
   ]
  },
  {
   "cell_type": "markdown",
   "id": "2c03e251",
   "metadata": {},
   "source": [
    "Q1-NUMBER OF ATHLETES BY GENDER"
   ]
  },
  {
   "cell_type": "code",
   "execution_count": 28,
   "id": "156cef37",
   "metadata": {},
   "outputs": [
    {
     "name": "stdout",
     "output_type": "stream",
     "text": [
      " * sqlite:///olympic.db\n",
      "Done.\n"
     ]
    },
    {
     "data": {
      "text/html": [
       "<table>\n",
       "    <thead>\n",
       "        <tr>\n",
       "            <th>Sex</th>\n",
       "            <th>count(*)</th>\n",
       "        </tr>\n",
       "    </thead>\n",
       "    <tbody>\n",
       "        <tr>\n",
       "            <td>F</td>\n",
       "            <td>1362</td>\n",
       "        </tr>\n",
       "        <tr>\n",
       "            <td>M</td>\n",
       "            <td>4301</td>\n",
       "        </tr>\n",
       "    </tbody>\n",
       "</table>"
      ],
      "text/plain": [
       "[('F', 1362), ('M', 4301)]"
      ]
     },
     "execution_count": 28,
     "metadata": {},
     "output_type": "execute_result"
    }
   ],
   "source": [
    "%%sql\n",
    "\n",
    "select sex,count(*) \n",
    "from athlete_eve\n",
    "group by sex;"
   ]
  },
  {
   "cell_type": "markdown",
   "id": "7dabfa48",
   "metadata": {},
   "source": [
    " Q2-CITYWISE PARTICIPATION OF MALE & FEMALE ATHLETES"
   ]
  },
  {
   "cell_type": "code",
   "execution_count": 32,
   "id": "4a78f4c9",
   "metadata": {},
   "outputs": [
    {
     "name": "stdout",
     "output_type": "stream",
     "text": [
      " * sqlite:///olympic.db\n",
      "Done.\n"
     ]
    },
    {
     "data": {
      "text/html": [
       "<table>\n",
       "    <thead>\n",
       "        <tr>\n",
       "            <th>City</th>\n",
       "            <th>Total</th>\n",
       "            <th>male</th>\n",
       "            <th>female</th>\n",
       "        </tr>\n",
       "    </thead>\n",
       "    <tbody>\n",
       "        <tr>\n",
       "            <td>London</td>\n",
       "            <td>734</td>\n",
       "            <td>553</td>\n",
       "            <td>181</td>\n",
       "        </tr>\n",
       "        <tr>\n",
       "            <td>Rio de Janeiro</td>\n",
       "            <td>376</td>\n",
       "            <td>213</td>\n",
       "            <td>163</td>\n",
       "        </tr>\n",
       "        <tr>\n",
       "            <td>Athina</td>\n",
       "            <td>337</td>\n",
       "            <td>217</td>\n",
       "            <td>120</td>\n",
       "        </tr>\n",
       "        <tr>\n",
       "            <td>Los Angeles</td>\n",
       "            <td>328</td>\n",
       "            <td>248</td>\n",
       "            <td>80</td>\n",
       "        </tr>\n",
       "        <tr>\n",
       "            <td>Atlanta</td>\n",
       "            <td>322</td>\n",
       "            <td>189</td>\n",
       "            <td>133</td>\n",
       "        </tr>\n",
       "    </tbody>\n",
       "</table>"
      ],
      "text/plain": [
       "[('London', 734, 553, 181),\n",
       " ('Rio de Janeiro', 376, 213, 163),\n",
       " ('Athina', 337, 217, 120),\n",
       " ('Los Angeles', 328, 248, 80),\n",
       " ('Atlanta', 322, 189, 133)]"
      ]
     },
     "execution_count": 32,
     "metadata": {},
     "output_type": "execute_result"
    }
   ],
   "source": [
    "%%sql\n",
    "\n",
    "select city,count(*) as Total,\n",
    "sum(case when sex='M' then 1 else 0 end) as male,\n",
    "sum(case when sex='F' then 1 else 0 end) as female\n",
    "from athlete_eve\n",
    "group by city\n",
    "order by Total desc\n",
    "limit 5;\n",
    "\n"
   ]
  },
  {
   "cell_type": "markdown",
   "id": "fc48fa84",
   "metadata": {},
   "source": [
    "Q3-NUMBER OF MALES & FEMALES WHO WON GOLD MEDALS\n"
   ]
  },
  {
   "cell_type": "code",
   "execution_count": 35,
   "id": "ae53ddbd",
   "metadata": {},
   "outputs": [
    {
     "name": "stdout",
     "output_type": "stream",
     "text": [
      " * sqlite:///olympic.db\n",
      "Done.\n"
     ]
    },
    {
     "data": {
      "text/html": [
       "<table>\n",
       "    <thead>\n",
       "        <tr>\n",
       "            <th>Medal</th>\n",
       "            <th>gold_by_male</th>\n",
       "            <th>gold_by_female</th>\n",
       "        </tr>\n",
       "    </thead>\n",
       "    <tbody>\n",
       "        <tr>\n",
       "            <td>Gold</td>\n",
       "            <td>173</td>\n",
       "            <td>73</td>\n",
       "        </tr>\n",
       "    </tbody>\n",
       "</table>"
      ],
      "text/plain": [
       "[('Gold', 173, 73)]"
      ]
     },
     "execution_count": 35,
     "metadata": {},
     "output_type": "execute_result"
    }
   ],
   "source": [
    "%%sql\n",
    "\n",
    "select medal,\n",
    "sum(case when sex='M' then 1 else 0 end) as gold_by_male,\n",
    "sum(case when sex='F' then 1 else 0 end) as gold_by_female\n",
    "from athlete_eve\n",
    "where medal='Gold';\n"
   ]
  },
  {
   "cell_type": "markdown",
   "id": "1aff7369",
   "metadata": {},
   "source": [
    "Q4-NUMBER OF MALES & FEMALES WHO WON SILVER MEDALS"
   ]
  },
  {
   "cell_type": "code",
   "execution_count": 36,
   "id": "ddf2ccab",
   "metadata": {},
   "outputs": [
    {
     "name": "stdout",
     "output_type": "stream",
     "text": [
      " * sqlite:///olympic.db\n",
      "Done.\n"
     ]
    },
    {
     "data": {
      "text/html": [
       "<table>\n",
       "    <thead>\n",
       "        <tr>\n",
       "            <th>Medal</th>\n",
       "            <th>silver_by_male</th>\n",
       "            <th>silver_by_female</th>\n",
       "        </tr>\n",
       "    </thead>\n",
       "    <tbody>\n",
       "        <tr>\n",
       "            <td>Silver</td>\n",
       "            <td>261</td>\n",
       "            <td>69</td>\n",
       "        </tr>\n",
       "    </tbody>\n",
       "</table>"
      ],
      "text/plain": [
       "[('Silver', 261, 69)]"
      ]
     },
     "execution_count": 36,
     "metadata": {},
     "output_type": "execute_result"
    }
   ],
   "source": [
    "%%sql\n",
    "\n",
    "select medal,\n",
    "sum(case when sex='M' then 1 else 0 end) as silver_by_male,\n",
    "sum(case when sex='F' then 1 else 0 end) as silver_by_female\n",
    "from athlete_eve\n",
    "where medal='Silver';\n"
   ]
  },
  {
   "cell_type": "markdown",
   "id": "4371d7d8",
   "metadata": {},
   "source": [
    "Q5-NUMBER OF MALES & FEMALES WHO WON BRONZE MEDALS"
   ]
  },
  {
   "cell_type": "code",
   "execution_count": 38,
   "id": "237e312f",
   "metadata": {},
   "outputs": [
    {
     "name": "stdout",
     "output_type": "stream",
     "text": [
      " * sqlite:///olympic.db\n",
      "Done.\n"
     ]
    },
    {
     "data": {
      "text/html": [
       "<table>\n",
       "    <thead>\n",
       "        <tr>\n",
       "            <th>Medal</th>\n",
       "            <th>bronze_by_male</th>\n",
       "            <th>bronze_by_female</th>\n",
       "        </tr>\n",
       "    </thead>\n",
       "    <tbody>\n",
       "        <tr>\n",
       "            <td>Bronze</td>\n",
       "            <td>178</td>\n",
       "            <td>65</td>\n",
       "        </tr>\n",
       "    </tbody>\n",
       "</table>"
      ],
      "text/plain": [
       "[('Bronze', 178, 65)]"
      ]
     },
     "execution_count": 38,
     "metadata": {},
     "output_type": "execute_result"
    }
   ],
   "source": [
    "%%sql\n",
    "\n",
    "select medal,\n",
    "sum(case when sex='M' then 1 else 0 end) as bronze_by_male,\n",
    "sum(case when sex='F' then 1 else 0 end) as bronze_by_female\n",
    "from athlete_eve\n",
    "where medal='Bronze';\n"
   ]
  },
  {
   "cell_type": "markdown",
   "id": "30d9acb6",
   "metadata": {},
   "source": [
    "Q6-NUMBER OF GOLD REGION/COUNTRY WISE\n"
   ]
  },
  {
   "cell_type": "code",
   "execution_count": 40,
   "id": "b8233697",
   "metadata": {},
   "outputs": [
    {
     "name": "stdout",
     "output_type": "stream",
     "text": [
      " * sqlite:///olympic.db\n",
      "Done.\n"
     ]
    },
    {
     "data": {
      "text/html": [
       "<table>\n",
       "    <thead>\n",
       "        <tr>\n",
       "            <th>region</th>\n",
       "            <th>gold_medals</th>\n",
       "        </tr>\n",
       "    </thead>\n",
       "    <tbody>\n",
       "        <tr>\n",
       "            <td>Bahamas</td>\n",
       "            <td>14</td>\n",
       "        </tr>\n",
       "        <tr>\n",
       "            <td>Denmark</td>\n",
       "            <td>179</td>\n",
       "        </tr>\n",
       "        <tr>\n",
       "            <td>Ecuador</td>\n",
       "            <td>1</td>\n",
       "        </tr>\n",
       "        <tr>\n",
       "            <td>Fiji</td>\n",
       "            <td>13</td>\n",
       "        </tr>\n",
       "        <tr>\n",
       "            <td>Haiti</td>\n",
       "            <td>1</td>\n",
       "        </tr>\n",
       "        <tr>\n",
       "            <td>Jamaica</td>\n",
       "            <td>38</td>\n",
       "        </tr>\n",
       "    </tbody>\n",
       "</table>"
      ],
      "text/plain": [
       "[('Bahamas', 14),\n",
       " ('Denmark', 179),\n",
       " ('Ecuador', 1),\n",
       " ('Fiji', 13),\n",
       " ('Haiti', 1),\n",
       " ('Jamaica', 38)]"
      ]
     },
     "execution_count": 40,
     "metadata": {},
     "output_type": "execute_result"
    }
   ],
   "source": [
    "%%sql\n",
    "\n",
    "select noc_reg.region,count(medal) as gold_medals\n",
    "from athlete_eve\n",
    "inner join noc_reg\n",
    "on athlete_eve.noc=noc_reg.noc\n",
    "where medal='Gold'\n",
    "group by noc_reg.region;\n"
   ]
  },
  {
   "cell_type": "markdown",
   "id": "e2b8e1cc",
   "metadata": {},
   "source": [
    "Q7-SEASON WISE PARTICIPATION OF ATHLETES wrt TEAMS\n"
   ]
  },
  {
   "cell_type": "code",
   "execution_count": 42,
   "id": "97783a87",
   "metadata": {},
   "outputs": [
    {
     "name": "stdout",
     "output_type": "stream",
     "text": [
      " * sqlite:///olympic.db\n",
      "Done.\n"
     ]
    },
    {
     "data": {
      "text/html": [
       "<table>\n",
       "    <thead>\n",
       "        <tr>\n",
       "            <th>Team</th>\n",
       "            <th>p</th>\n",
       "            <th>summer</th>\n",
       "            <th>winter</th>\n",
       "        </tr>\n",
       "    </thead>\n",
       "    <tbody>\n",
       "        <tr>\n",
       "            <td>Denmark</td>\n",
       "            <td>3424</td>\n",
       "            <td>3312</td>\n",
       "            <td>112</td>\n",
       "        </tr>\n",
       "        <tr>\n",
       "            <td>Jamaica</td>\n",
       "            <td>841</td>\n",
       "            <td>814</td>\n",
       "            <td>27</td>\n",
       "        </tr>\n",
       "        <tr>\n",
       "            <td>Bahamas</td>\n",
       "            <td>348</td>\n",
       "            <td>348</td>\n",
       "            <td>0</td>\n",
       "        </tr>\n",
       "        <tr>\n",
       "            <td>Ecuador</td>\n",
       "            <td>277</td>\n",
       "            <td>277</td>\n",
       "            <td>0</td>\n",
       "        </tr>\n",
       "        <tr>\n",
       "            <td>Fiji</td>\n",
       "            <td>232</td>\n",
       "            <td>228</td>\n",
       "            <td>4</td>\n",
       "        </tr>\n",
       "    </tbody>\n",
       "</table>"
      ],
      "text/plain": [
       "[('Denmark', 3424, 3312, 112),\n",
       " ('Jamaica', 841, 814, 27),\n",
       " ('Bahamas', 348, 348, 0),\n",
       " ('Ecuador', 277, 277, 0),\n",
       " ('Fiji', 232, 228, 4)]"
      ]
     },
     "execution_count": 42,
     "metadata": {},
     "output_type": "execute_result"
    }
   ],
   "source": [
    "%%sql\n",
    "\n",
    "select team,count(*) as p,\n",
    "sum(case when season='Summer' then 1 else 0 end) as summer,\n",
    "\n",
    "sum(case when season='Winter' then 1 else 0 end) as winter\n",
    "from athlete_eve\n",
    "group by team\n",
    "order by p desc\n",
    "limit 5;\n"
   ]
  },
  {
   "cell_type": "markdown",
   "id": "aa1f40cd",
   "metadata": {},
   "source": [
    "Q8-TEAM with MOST MEDALS"
   ]
  },
  {
   "cell_type": "code",
   "execution_count": 45,
   "id": "95cf869f",
   "metadata": {},
   "outputs": [
    {
     "name": "stdout",
     "output_type": "stream",
     "text": [
      " * sqlite:///olympic.db\n",
      "Done.\n"
     ]
    },
    {
     "data": {
      "text/html": [
       "<table>\n",
       "    <thead>\n",
       "        <tr>\n",
       "            <th>Team</th>\n",
       "            <th>Total_Medal</th>\n",
       "        </tr>\n",
       "    </thead>\n",
       "    <tbody>\n",
       "        <tr>\n",
       "            <td>Denmark</td>\n",
       "            <td>553</td>\n",
       "        </tr>\n",
       "        <tr>\n",
       "            <td>Jamaica</td>\n",
       "            <td>157</td>\n",
       "        </tr>\n",
       "        <tr>\n",
       "            <td>Bahamas</td>\n",
       "            <td>36</td>\n",
       "        </tr>\n",
       "        <tr>\n",
       "            <td>Fiji</td>\n",
       "            <td>13</td>\n",
       "        </tr>\n",
       "        <tr>\n",
       "            <td>Haiti</td>\n",
       "            <td>6</td>\n",
       "        </tr>\n",
       "    </tbody>\n",
       "</table>"
      ],
      "text/plain": [
       "[('Denmark', 553),\n",
       " ('Jamaica', 157),\n",
       " ('Bahamas', 36),\n",
       " ('Fiji', 13),\n",
       " ('Haiti', 6)]"
      ]
     },
     "execution_count": 45,
     "metadata": {},
     "output_type": "execute_result"
    }
   ],
   "source": [
    "%%sql\n",
    "\n",
    "select team,count(Medal) as Total_Medal\n",
    "from athlete_eve\n",
    "where medal in ('Gold','Silver','Bronze')\n",
    "group by team\n",
    "order by Total_Medal desc\n",
    "limit 5;\n"
   ]
  },
  {
   "cell_type": "markdown",
   "id": "9e0654d0",
   "metadata": {},
   "source": [
    "Q9-YEARLY PARTICIPATION OF FEMALE ATHLETES\n"
   ]
  },
  {
   "cell_type": "code",
   "execution_count": 47,
   "id": "14f4c475",
   "metadata": {},
   "outputs": [
    {
     "name": "stdout",
     "output_type": "stream",
     "text": [
      " * sqlite:///olympic.db\n",
      "Done.\n"
     ]
    },
    {
     "data": {
      "text/html": [
       "<table>\n",
       "    <thead>\n",
       "        <tr>\n",
       "            <th>Year</th>\n",
       "            <th>total</th>\n",
       "        </tr>\n",
       "    </thead>\n",
       "    <tbody>\n",
       "        <tr>\n",
       "            <td>2016</td>\n",
       "            <td>163</td>\n",
       "        </tr>\n",
       "        <tr>\n",
       "            <td>2012</td>\n",
       "            <td>143</td>\n",
       "        </tr>\n",
       "        <tr>\n",
       "            <td>1996</td>\n",
       "            <td>133</td>\n",
       "        </tr>\n",
       "        <tr>\n",
       "            <td>2004</td>\n",
       "            <td>120</td>\n",
       "        </tr>\n",
       "        <tr>\n",
       "            <td>2000</td>\n",
       "            <td>120</td>\n",
       "        </tr>\n",
       "    </tbody>\n",
       "</table>"
      ],
      "text/plain": [
       "[(2016, 163), (2012, 143), (1996, 133), (2004, 120), (2000, 120)]"
      ]
     },
     "execution_count": 47,
     "metadata": {},
     "output_type": "execute_result"
    }
   ],
   "source": [
    "%%sql\n",
    "\n",
    "select year,count(sex) as total\n",
    "from athlete_eve\n",
    "where sex='F'\n",
    "group by year\n",
    "order by total desc\n",
    "limit 5;\n"
   ]
  },
  {
   "cell_type": "markdown",
   "id": "2d546253",
   "metadata": {},
   "source": [
    "Q10-YEARLY PARTICIPATION OF MALE ATHLETES"
   ]
  },
  {
   "cell_type": "code",
   "execution_count": 49,
   "id": "29f5c444",
   "metadata": {},
   "outputs": [
    {
     "name": "stdout",
     "output_type": "stream",
     "text": [
      " * sqlite:///olympic.db\n",
      "Done.\n"
     ]
    },
    {
     "data": {
      "text/html": [
       "<table>\n",
       "    <thead>\n",
       "        <tr>\n",
       "            <th>Year</th>\n",
       "            <th>total</th>\n",
       "        </tr>\n",
       "    </thead>\n",
       "    <tbody>\n",
       "        <tr>\n",
       "            <td>1948</td>\n",
       "            <td>268</td>\n",
       "        </tr>\n",
       "        <tr>\n",
       "            <td>1920</td>\n",
       "            <td>239</td>\n",
       "        </tr>\n",
       "        <tr>\n",
       "            <td>1912</td>\n",
       "            <td>231</td>\n",
       "        </tr>\n",
       "        <tr>\n",
       "            <td>1972</td>\n",
       "            <td>216</td>\n",
       "        </tr>\n",
       "        <tr>\n",
       "            <td>1992</td>\n",
       "            <td>214</td>\n",
       "        </tr>\n",
       "    </tbody>\n",
       "</table>"
      ],
      "text/plain": [
       "[(1948, 268), (1920, 239), (1912, 231), (1972, 216), (1992, 214)]"
      ]
     },
     "execution_count": 49,
     "metadata": {},
     "output_type": "execute_result"
    }
   ],
   "source": [
    "%%sql\n",
    "\n",
    "select year,count(sex) as total\n",
    "from athlete_eve\n",
    "where sex='M'\n",
    "group by year\n",
    "order by total desc\n",
    "limit 5;\n"
   ]
  },
  {
   "cell_type": "markdown",
   "id": "10a1a98a",
   "metadata": {},
   "source": [
    "Q11-CITYWISE TOTAL GAMES PLAYED\n"
   ]
  },
  {
   "cell_type": "code",
   "execution_count": 52,
   "id": "c61a6772",
   "metadata": {},
   "outputs": [
    {
     "name": "stdout",
     "output_type": "stream",
     "text": [
      " * sqlite:///olympic.db\n",
      "Done.\n"
     ]
    },
    {
     "data": {
      "text/html": [
       "<table>\n",
       "    <thead>\n",
       "        <tr>\n",
       "            <th>City</th>\n",
       "            <th>TOTAL_SPORTS_PLAYED</th>\n",
       "        </tr>\n",
       "    </thead>\n",
       "    <tbody>\n",
       "        <tr>\n",
       "            <td>London</td>\n",
       "            <td>734</td>\n",
       "        </tr>\n",
       "        <tr>\n",
       "            <td>Rio de Janeiro</td>\n",
       "            <td>376</td>\n",
       "        </tr>\n",
       "        <tr>\n",
       "            <td>Athina</td>\n",
       "            <td>337</td>\n",
       "        </tr>\n",
       "        <tr>\n",
       "            <td>Los Angeles</td>\n",
       "            <td>328</td>\n",
       "        </tr>\n",
       "        <tr>\n",
       "            <td>Atlanta</td>\n",
       "            <td>322</td>\n",
       "        </tr>\n",
       "    </tbody>\n",
       "</table>"
      ],
      "text/plain": [
       "[('London', 734),\n",
       " ('Rio de Janeiro', 376),\n",
       " ('Athina', 337),\n",
       " ('Los Angeles', 328),\n",
       " ('Atlanta', 322)]"
      ]
     },
     "execution_count": 52,
     "metadata": {},
     "output_type": "execute_result"
    }
   ],
   "source": [
    "%%sql\n",
    "\n",
    "select city,count(sport) as TOTAL_SPORTS_PLAYED\n",
    "from athlete_eve\n",
    "group by city\n",
    "order by TOTAL_SPORTS_PLAYED desc\n",
    "limit 5;"
   ]
  },
  {
   "cell_type": "markdown",
   "id": "83af0f79",
   "metadata": {},
   "source": [
    "Q12-POPULAR SPORT OF WOMEN"
   ]
  },
  {
   "cell_type": "code",
   "execution_count": 54,
   "id": "5f25247e",
   "metadata": {},
   "outputs": [
    {
     "name": "stdout",
     "output_type": "stream",
     "text": [
      " * sqlite:///olympic.db\n",
      "Done.\n"
     ]
    },
    {
     "data": {
      "text/html": [
       "<table>\n",
       "    <thead>\n",
       "        <tr>\n",
       "            <th>Sport</th>\n",
       "            <th>sport</th>\n",
       "        </tr>\n",
       "    </thead>\n",
       "    <tbody>\n",
       "        <tr>\n",
       "            <td>Athletics</td>\n",
       "            <td>542</td>\n",
       "        </tr>\n",
       "        <tr>\n",
       "            <td>Swimming</td>\n",
       "            <td>286</td>\n",
       "        </tr>\n",
       "        <tr>\n",
       "            <td>Handball</td>\n",
       "            <td>59</td>\n",
       "        </tr>\n",
       "        <tr>\n",
       "            <td>Equestrianism</td>\n",
       "            <td>53</td>\n",
       "        </tr>\n",
       "        <tr>\n",
       "            <td>Badminton</td>\n",
       "            <td>50</td>\n",
       "        </tr>\n",
       "    </tbody>\n",
       "</table>"
      ],
      "text/plain": [
       "[('Athletics', 542),\n",
       " ('Swimming', 286),\n",
       " ('Handball', 59),\n",
       " ('Equestrianism', 53),\n",
       " ('Badminton', 50)]"
      ]
     },
     "execution_count": 54,
     "metadata": {},
     "output_type": "execute_result"
    }
   ],
   "source": [
    "%%sql\n",
    "\n",
    "select sport,count(*) as sport\n",
    "from athlete_eve\n",
    "where sex='F'\n",
    "group by sport\n",
    "order by sport desc\n",
    "limit 5;\n"
   ]
  },
  {
   "cell_type": "markdown",
   "id": "cac47909",
   "metadata": {},
   "source": [
    "Q13-POPULAR SPORT OF MEN"
   ]
  },
  {
   "cell_type": "code",
   "execution_count": 55,
   "id": "4f0d7047",
   "metadata": {},
   "outputs": [
    {
     "name": "stdout",
     "output_type": "stream",
     "text": [
      " * sqlite:///olympic.db\n",
      "Done.\n"
     ]
    },
    {
     "data": {
      "text/html": [
       "<table>\n",
       "    <thead>\n",
       "        <tr>\n",
       "            <th>Sport</th>\n",
       "            <th>sport</th>\n",
       "        </tr>\n",
       "    </thead>\n",
       "    <tbody>\n",
       "        <tr>\n",
       "            <td>Athletics</td>\n",
       "            <td>926</td>\n",
       "        </tr>\n",
       "        <tr>\n",
       "            <td>Cycling</td>\n",
       "            <td>381</td>\n",
       "        </tr>\n",
       "        <tr>\n",
       "            <td>Gymnastics</td>\n",
       "            <td>311</td>\n",
       "        </tr>\n",
       "        <tr>\n",
       "            <td>Shooting</td>\n",
       "            <td>289</td>\n",
       "        </tr>\n",
       "        <tr>\n",
       "            <td>Sailing</td>\n",
       "            <td>267</td>\n",
       "        </tr>\n",
       "    </tbody>\n",
       "</table>"
      ],
      "text/plain": [
       "[('Athletics', 926),\n",
       " ('Cycling', 381),\n",
       " ('Gymnastics', 311),\n",
       " ('Shooting', 289),\n",
       " ('Sailing', 267)]"
      ]
     },
     "execution_count": 55,
     "metadata": {},
     "output_type": "execute_result"
    }
   ],
   "source": [
    "%%sql\n",
    "\n",
    "select sport,count(*) as sport\n",
    "from athlete_eve\n",
    "where sex='M'\n",
    "group by sport\n",
    "order by sport desc\n",
    "limit 5;\n"
   ]
  },
  {
   "cell_type": "code",
   "execution_count": null,
   "id": "cc4b235e",
   "metadata": {},
   "outputs": [],
   "source": []
  }
 ],
 "metadata": {
  "kernelspec": {
   "display_name": "Python 3 (ipykernel)",
   "language": "python",
   "name": "python3"
  },
  "language_info": {
   "codemirror_mode": {
    "name": "ipython",
    "version": 3
   },
   "file_extension": ".py",
   "mimetype": "text/x-python",
   "name": "python",
   "nbconvert_exporter": "python",
   "pygments_lexer": "ipython3",
   "version": "3.11.2"
  }
 },
 "nbformat": 4,
 "nbformat_minor": 5
}
